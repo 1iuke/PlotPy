{
 "cells": [
  {
   "cell_type": "code",
   "execution_count": 1,
   "id": "829f93ae-9021-4e17-97f8-869ada52d1a0",
   "metadata": {},
   "outputs": [],
   "source": [
    "%matplotlib inline\n",
    "import math\n",
    "import time\n",
    "import numpy as np\n",
    "from myPkg import myPlot as d2l \n",
    "import scipy.io as sio\n",
    "import os\n",
    "from tqdm import tqdm\n"
   ]
  },
  {
   "cell_type": "code",
   "execution_count": 2,
   "id": "dcaabd49-3b27-47f8-9ad8-405c72923615",
   "metadata": {},
   "outputs": [
    {
     "name": "stdout",
     "output_type": "stream",
     "text": [
      "数据类型\n"
     ]
    },
    {
     "data": {
      "text/plain": [
       "dict_keys(['__header__', '__version__', '__globals__', 'accs', 'itrs'])"
      ]
     },
     "execution_count": 2,
     "metadata": {},
     "output_type": "execute_result"
    }
   ],
   "source": [
    "methods = ['TRCA','TDCA','TRCA-SAME','TDCA-SAME','MSeCCA','MSTRCA','TRCAR','TRCA-MSSAME','TDCA-MSSAME']\n",
    "\n",
    "data = sio.loadmat(r'H:\\Semiconductor\\Code_zoo\\SSVEP算法\\result\\TRCA\\S1.mat')\n",
    "print(\"数据类型\")\n",
    "data.keys()"
   ]
  },
  {
   "cell_type": "code",
   "execution_count": 3,
   "id": "74b45417-706d-4850-a3ca-3e16dbd9e033",
   "metadata": {},
   "outputs": [],
   "source": [
    "accs = data['accs']\n",
    "itrs = data['itrs']"
   ]
  },
  {
   "cell_type": "code",
   "execution_count": 4,
   "id": "ac39b641-81de-41c6-9773-5f0ac971f27a",
   "metadata": {},
   "outputs": [],
   "source": [
    "# from matplotlib import pyplot as plt\n",
    "\n",
    "# colors = plt.cm.viridis(np.linspace(0, 1, 12))  # 使用 viridis 颜色图\n",
    "# str(colors[0])\n",
    "# from matplotlib import colormaps\n",
    "# list(colormaps)"
   ]
  },
  {
   "cell_type": "code",
   "execution_count": 5,
   "id": "cc3b3009-dc70-45b3-8dfd-f0f452143937",
   "metadata": {},
   "outputs": [
    {
     "name": "stdout",
     "output_type": "stream",
     "text": [
      "S1的结果\n"
     ]
    },
    {
     "ename": "ValueError",
     "evalue": "The truth value of an array with more than one element is ambiguous. Use a.any() or a.all()",
     "output_type": "error",
     "traceback": [
      "\u001b[1;31m---------------------------------------------------------------------------\u001b[0m",
      "\u001b[1;31mValueError\u001b[0m                                Traceback (most recent call last)",
      "Cell \u001b[1;32mIn[5], line 5\u001b[0m\n\u001b[0;32m      3\u001b[0m params \u001b[38;5;241m=\u001b[39m\u001b[38;5;28mrange\u001b[39m(\u001b[38;5;241m5\u001b[39m)\n\u001b[0;32m      4\u001b[0m time_points \u001b[38;5;241m=\u001b[39m np\u001b[38;5;241m.\u001b[39mlinspace(\u001b[38;5;241m0.1\u001b[39m,\u001b[38;5;241m1\u001b[39m,\u001b[38;5;241m10\u001b[39m)\n\u001b[1;32m----> 5\u001b[0m d2l\u001b[38;5;241m.\u001b[39mplot(time_points,\n\u001b[0;32m      6\u001b[0m          [accs[i,:,:]\u001b[38;5;241m.\u001b[39mmean(\u001b[38;5;241m0\u001b[39m) \u001b[38;5;28;01mfor\u001b[39;00m i \u001b[38;5;129;01min\u001b[39;00m params ] ,\n\u001b[0;32m      7\u001b[0m          [accs[i,:,:]\u001b[38;5;241m.\u001b[39mstd(\u001b[38;5;241m0\u001b[39m) \u001b[38;5;28;01mfor\u001b[39;00m i \u001b[38;5;129;01min\u001b[39;00m params],\n\u001b[0;32m      8\u001b[0m           xlabel\u001b[38;5;241m=\u001b[39m\u001b[38;5;124m'\u001b[39m\u001b[38;5;124mTime(s)\u001b[39m\u001b[38;5;124m'\u001b[39m,\n\u001b[0;32m      9\u001b[0m          ylabel\u001b[38;5;241m=\u001b[39m\u001b[38;5;124m'\u001b[39m\u001b[38;5;124mAccuracy(\u001b[39m\u001b[38;5;124m%\u001b[39m\u001b[38;5;124m)\u001b[39m\u001b[38;5;124m'\u001b[39m, \n\u001b[0;32m     10\u001b[0m          \n\u001b[0;32m     11\u001b[0m          figsize\u001b[38;5;241m=\u001b[39m(\u001b[38;5;241m4.5\u001b[39m, \u001b[38;5;241m2.5\u001b[39m),\n\u001b[0;32m     12\u001b[0m          xlim\u001b[38;5;241m=\u001b[39m[\u001b[38;5;241m0.05\u001b[39m,\u001b[38;5;241m1.05\u001b[39m],\n\u001b[0;32m     13\u001b[0m          legend\u001b[38;5;241m=\u001b[39m[\u001b[38;5;124mf\u001b[39m\u001b[38;5;124m'\u001b[39m\u001b[38;5;124mTrain_\u001b[39m\u001b[38;5;132;01m{\u001b[39;00mmu\u001b[38;5;241m+\u001b[39m\u001b[38;5;241m1\u001b[39m\u001b[38;5;132;01m}\u001b[39;00m\u001b[38;5;124m'\u001b[39m \u001b[38;5;28;01mfor\u001b[39;00m mu \u001b[38;5;129;01min\u001b[39;00m params],\n\u001b[0;32m     14\u001b[0m         titles\u001b[38;5;241m=\u001b[39m\u001b[38;5;124m\"\u001b[39m\u001b[38;5;124mTRCA\u001b[39m\u001b[38;5;124m\"\u001b[39m\n\u001b[0;32m     15\u001b[0m         )\n",
      "File \u001b[1;32mD:\\Liuke\\PlotPy\\PlotPy\\myPkg\\myPlot.py:111\u001b[0m, in \u001b[0;36mplot\u001b[1;34m(X, Y, Yerr, xlabel, ylabel, legend, titles, xlim, saveName, ylim, xscale, yscale, markersize, capsize, linestyles, colors, markers, figsize, axes)\u001b[0m\n\u001b[0;32m    108\u001b[0m set_figsize(figsize)\n\u001b[0;32m    110\u001b[0m \u001b[38;5;28;01mif\u001b[39;00m(colors):\n\u001b[1;32m--> 111\u001b[0m     colors \u001b[38;5;241m=\u001b[39m set_colors(colors)\n\u001b[0;32m    114\u001b[0m axes \u001b[38;5;241m=\u001b[39m axes \u001b[38;5;28;01mif\u001b[39;00m axes \u001b[38;5;28;01melse\u001b[39;00m d2l\u001b[38;5;241m.\u001b[39mplt\u001b[38;5;241m.\u001b[39mgca()\n\u001b[0;32m    116\u001b[0m \u001b[38;5;66;03m# Return True if `X` (tensor or list) has 1 axis\u001b[39;00m\n",
      "File \u001b[1;32mD:\\Liuke\\PlotPy\\PlotPy\\myPkg\\myPlot.py:73\u001b[0m, in \u001b[0;36mset_colors\u001b[1;34m(colors)\u001b[0m\n\u001b[0;32m     71\u001b[0m \u001b[38;5;28;01mif\u001b[39;00m colors \u001b[38;5;241m==\u001b[39m \u001b[38;5;124m\"\u001b[39m\u001b[38;5;124mviridis\u001b[39m\u001b[38;5;124m\"\u001b[39m:\n\u001b[0;32m     72\u001b[0m     colors \u001b[38;5;241m=\u001b[39m plt\u001b[38;5;241m.\u001b[39mcm\u001b[38;5;241m.\u001b[39mviridis(np\u001b[38;5;241m.\u001b[39mlinspace(\u001b[38;5;241m0\u001b[39m, \u001b[38;5;241m1\u001b[39m, \u001b[38;5;241m12\u001b[39m))  \u001b[38;5;66;03m# 使用 viridis 颜色图\u001b[39;00m\n\u001b[1;32m---> 73\u001b[0m \u001b[38;5;28;01mif\u001b[39;00m colors \u001b[38;5;241m==\u001b[39m \u001b[38;5;124m\"\u001b[39m\u001b[38;5;124mjet\u001b[39m\u001b[38;5;124m\"\u001b[39m:\n\u001b[0;32m     74\u001b[0m     colors \u001b[38;5;241m=\u001b[39m plt\u001b[38;5;241m.\u001b[39mcm\u001b[38;5;241m.\u001b[39mjet(np\u001b[38;5;241m.\u001b[39mlinspace(\u001b[38;5;241m0\u001b[39m, \u001b[38;5;241m1\u001b[39m, \u001b[38;5;241m12\u001b[39m))  \u001b[38;5;66;03m# 使用 viridis 颜色图\u001b[39;00m\n\u001b[0;32m     75\u001b[0m \u001b[38;5;28;01mif\u001b[39;00m colors \u001b[38;5;241m==\u001b[39m \u001b[38;5;124m\"\u001b[39m\u001b[38;5;124msummer\u001b[39m\u001b[38;5;124m\"\u001b[39m:\n",
      "\u001b[1;31mValueError\u001b[0m: The truth value of an array with more than one element is ambiguous. Use a.any() or a.all()"
     ]
    }
   ],
   "source": [
    "print(\"S1的结果\")\n",
    "\n",
    "params =range(5)\n",
    "time_points = np.linspace(0.1,1,10)\n",
    "d2l.plot(time_points,\n",
    "         [accs[i,:,:].mean(0) for i in params ] ,\n",
    "         [accs[i,:,:].std(0) for i in params],\n",
    "          xlabel='Time(s)',\n",
    "         ylabel='Accuracy(%)', \n",
    "         \n",
    "         figsize=(4.5, 2.5),\n",
    "         xlim=[0.05,1.05],\n",
    "         legend=[f'Train_{mu+1}' for mu in params],\n",
    "        titles=\"TRCA\"\n",
    "        )"
   ]
  },
  {
   "cell_type": "markdown",
   "id": "ed56feb7-b0f1-471e-ba52-44e96a4814ef",
   "metadata": {},
   "source": [
    "## TRCA"
   ]
  },
  {
   "cell_type": "code",
   "execution_count": null,
   "id": "8f5b1ded-7237-415b-afb0-cb94c8bcbd78",
   "metadata": {},
   "outputs": [],
   "source": [
    "# Base path to your data files\n",
    "base_path = r'H:\\Semiconductor\\Code_zoo\\SSVEP算法\\result\\TRCA'\n",
    "sub_num = 35\n",
    "print(f\"加载{sub_num}人数据\")\n",
    "\n",
    "# Initialize a list to store data for all subjects\n",
    "subject_data = []\n",
    "accs = []\n",
    "itrs = []\n",
    "# Loop through 10 subjects (S1.mat to S10.mat)\n",
    "for i in tqdm(range(1, sub_num+1)):\n",
    "    file_path = os.path.join(base_path, f'S{i}.mat')  # Construct the file path for each subject\n",
    "    data = sio.loadmat(file_path)                     # Load the .mat file\n",
    "    subject_data.append(data)                         # Append the loaded data to the list\n",
    "    accs .append (data['accs'])\n",
    "    itrs .append (data['itrs'])\n",
    "    # print(f\"Loaded data for S{i}\")\n",
    "accs = np.array(accs)\n",
    "itrs = np.array(itrs)\n",
    "\n",
    "acc_trca = accs;\n",
    "itr_trca = itrs;"
   ]
  },
  {
   "cell_type": "code",
   "execution_count": null,
   "id": "9861bf4c-db82-4084-a542-c516414c8b24",
   "metadata": {},
   "outputs": [],
   "source": [
    "print(f\"数据类型{accs.shape}\")\n",
    "# accs[:,4,:,:].mean(1).std(0)"
   ]
  },
  {
   "cell_type": "code",
   "execution_count": null,
   "id": "5f0aadfe-9771-46ca-857c-29eca1aeed71",
   "metadata": {},
   "outputs": [],
   "source": [
    "print(\"平均的结果\")\n",
    "print(\"Accuracy\")\n",
    "\n",
    "params =range(5)\n",
    "time_points = np.linspace(0.1,1,10)\n",
    "d2l.plot(time_points,\n",
    "         [accs[:,i,:,:].mean( axis=(0,1)) for i in params ] ,\n",
    "         [accs[:,i,:,:].mean(1).std(0)/np.sqrt(sub_num-1) for i in params],\n",
    "          xlabel='Time(s)',\n",
    "         ylabel='Accuracy', \n",
    "         figsize=(4.5, 2.5),\n",
    "         xlim=[0.05,1.05],\n",
    "         legend=[f'Train_{mu+1}' for mu in params],\n",
    "        titles=\"TRCA\",\n",
    "        saveName=\"TRCA_Acc\"\n",
    "        )\n",
    "\n",
    "print(\"ITR\")\n",
    "d2l.plot(time_points,\n",
    "         [itrs[:,i,:,:].mean( axis=(0,1)) for i in params ] ,\n",
    "         [itrs[:,i,:,:].mean(1).std(0)/np.sqrt(sub_num-1) for i in params],\n",
    "          xlabel='Time(s)',\n",
    "         ylabel='ITR(dB)', \n",
    "         figsize=(4.5, 2.5),\n",
    "         xlim=[0.05,1.05],\n",
    "         legend=[f'Train_{mu+1}' for mu in params],\n",
    "        titles=\"TRCA\",\n",
    "        saveName=\"TRCA_ITR\"\n",
    "        )"
   ]
  },
  {
   "cell_type": "markdown",
   "id": "98990d0e-f556-4455-9274-816ccdda9170",
   "metadata": {},
   "source": [
    "TRCA 0.5s  219.67 ± 12.47 bpm\n",
    "\n",
    "TDCA 0.5s  244.34 ± 10.84 bpm  Nk = 7,  l = 4."
   ]
  },
  {
   "cell_type": "code",
   "execution_count": null,
   "id": "fb642d1c-e9be-4f94-a995-2383be6a783d",
   "metadata": {},
   "outputs": [],
   "source": [
    "n = np.argmax(itrs[:,4,:,:].mean( axis=(0,1)))\n",
    "acc_max = accs[:,4,:,n].mean( axis=(0,1))\n",
    "itr_max = itrs[:,4,:,:].mean( axis=(0,1)).max()\n",
    "print(f\"t = {(1+n)*0.1} 时,Acc = {acc_max:.4f} ,ITR = {itr_max:.2f} bit/min\")"
   ]
  },
  {
   "cell_type": "markdown",
   "id": "d33b7d15-bc9d-49c3-8952-6a6dfe2e4fa3",
   "metadata": {},
   "source": [
    "## TDCA"
   ]
  },
  {
   "cell_type": "code",
   "execution_count": null,
   "id": "1b54c01b-4834-48a2-a517-9e1b1d199152",
   "metadata": {},
   "outputs": [],
   "source": [
    "# Base path to your data files\n",
    "base_path = r'H:\\Semiconductor\\Code_zoo\\SSVEP算法\\result\\TDCA'\n",
    "sub_num = 35\n",
    "print(f\"加载{sub_num}人数据\")\n",
    "\n",
    "# Initialize a list to store data for all subjects\n",
    "subject_data = []\n",
    "accs = []\n",
    "itrs = []\n",
    "# Loop through 10 subjects (S1.mat to S10.mat)\n",
    "for i in tqdm(range(1, sub_num+1)):\n",
    "    file_path = os.path.join(base_path, f'S{i}.mat')  # Construct the file path for each subject\n",
    "    data = sio.loadmat(file_path)                     # Load the .mat file\n",
    "    subject_data.append(data)                         # Append the loaded data to the list\n",
    "    accs .append (data['accs'])\n",
    "    itrs .append (data['itrs'])\n",
    "    # print(f\"Loaded data for S{i}\")\n",
    "accs = np.array(accs)\n",
    "itrs = np.array(itrs)\n",
    "acc_tdca = accs;\n",
    "itr_tdca = itrs;"
   ]
  },
  {
   "cell_type": "code",
   "execution_count": null,
   "id": "dad72b98-3d14-4cba-8c97-723e26109263",
   "metadata": {},
   "outputs": [],
   "source": [
    "print(\"平均的结果\")\n",
    "print(\"Accuracy\")\n",
    "\n",
    "params =range(5)\n",
    "time_points = np.linspace(0.1,1,10)\n",
    "d2l.plot(time_points,\n",
    "         [accs[:,i,:,:].mean( axis=(0,1)) for i in params ] ,\n",
    "         [accs[:,i,:,:].mean(1).std(0)/np.sqrt(sub_num-1) for i in params],\n",
    "          xlabel='Time(s)',\n",
    "         ylabel='Accuracy', \n",
    "         figsize=(4.5, 2.5),\n",
    "         xlim=[0.05,1.05],\n",
    "         legend=[f'Train_{mu+1}' for mu in params],\n",
    "        titles=\"TDCA\",\n",
    "        saveName=\"TDCA_Acc\"\n",
    "        )\n",
    "\n",
    "print(\"ITR\")\n",
    "d2l.plot(time_points,\n",
    "         [itrs[:,i,:,:].mean( axis=(0,1)) for i in params ] ,\n",
    "         [itrs[:,i,:,:].mean(1).std(0)/np.sqrt(sub_num-1) for i in params],\n",
    "          xlabel='Time(s)',\n",
    "         ylabel='ITR(dB)', \n",
    "         figsize=(4.5, 2.5),\n",
    "         xlim=[0.05,1.05],\n",
    "         legend=[f'Train_{mu+1}' for mu in params],\n",
    "        titles=\"TDCA\",\n",
    "        saveName=\"TDCA_ITR\"\n",
    "        )"
   ]
  },
  {
   "cell_type": "code",
   "execution_count": null,
   "id": "53afc27b-517d-4b7d-9a7a-6ef618ebf0d3",
   "metadata": {},
   "outputs": [],
   "source": [
    "n = np.argmax(itrs[:,4,:,:].mean( axis=(0,1)))\n",
    "acc_max = accs[:,4,:,n].mean( axis=(0,1))\n",
    "itr_max = itrs[:,4,:,:].mean( axis=(0,1)).max()\n",
    "print(f\"t = {(1+n)*0.1} 时,Acc = {acc_max:.4f} ,ITR = {itr_max:.2f} bit/min\")"
   ]
  },
  {
   "cell_type": "markdown",
   "id": "1246e6ba-023f-4def-bb5b-2be55b144df8",
   "metadata": {},
   "source": [
    "Compare"
   ]
  },
  {
   "cell_type": "code",
   "execution_count": null,
   "id": "342c0fa9-ae2c-4628-a901-d1ecc5eed61f",
   "metadata": {},
   "outputs": [],
   "source": []
  },
  {
   "cell_type": "markdown",
   "id": "cbfff2b9-f447-4a58-a243-64708bba0c47",
   "metadata": {},
   "source": [
    "## TRCA-SAME"
   ]
  },
  {
   "cell_type": "code",
   "execution_count": null,
   "id": "81666a40-6a45-4b51-9450-816ef3931aad",
   "metadata": {},
   "outputs": [],
   "source": [
    "# Base path to your data files\n",
    "base_path = r'H:\\Semiconductor\\Code_zoo\\SSVEP算法\\result\\TRCA-SAME'\n",
    "sub_num = 35\n",
    "print(f\"加载{sub_num}人数据\")\n",
    "\n",
    "# Initialize a list to store data for all subjects\n",
    "subject_data = []\n",
    "accs = []\n",
    "itrs = []\n",
    "# Loop through 10 subjects (S1.mat to S10.mat)\n",
    "for i in tqdm(range(1, sub_num+1)):\n",
    "    file_path = os.path.join(base_path, f'S{i}.mat')  # Construct the file path for each subject\n",
    "    data = sio.loadmat(file_path)                     # Load the .mat file\n",
    "    subject_data.append(data)                         # Append the loaded data to the list\n",
    "    accs .append (data['accs'])\n",
    "    itrs .append (data['itrs'])\n",
    "    # print(f\"Loaded data for S{i}\")\n",
    "accs = np.array(accs)\n",
    "itrs = np.array(itrs)\n",
    "acc_trca_same = accs;\n",
    "itr_trca_same = itrs;"
   ]
  },
  {
   "cell_type": "code",
   "execution_count": null,
   "id": "19083827-aa4c-413a-84d5-b966f06ecb08",
   "metadata": {},
   "outputs": [],
   "source": [
    "print(\"平均的结果\")\n",
    "print(\"Accuracy\")\n",
    "\n",
    "params =range(5)\n",
    "time_points = np.linspace(0.1,1,10)\n",
    "d2l.plot(time_points,\n",
    "         [accs[:,i,:,:].mean( axis=(0,1)) for i in params ] ,\n",
    "         [accs[:,i,:,:].mean(1).std(0)/np.sqrt(sub_num-1) for i in params],\n",
    "          xlabel='Time(s)',\n",
    "         ylabel='Accuracy', \n",
    "         figsize=(4.5, 2.5),\n",
    "         xlim=[0.05,1.05],\n",
    "         legend=[f'Train_{mu+1}' for mu in params],\n",
    "        titles=\"TRCA-SAME\",\n",
    "        saveName=\"TRCA-SAME_Acc\"\n",
    "        )\n",
    "\n",
    "print(\"ITR\")\n",
    "d2l.plot(time_points,\n",
    "         [itrs[:,i,:,:].mean( axis=(0,1)) for i in params ] ,\n",
    "         [itrs[:,i,:,:].mean(1).std(0)/np.sqrt(sub_num-1) for i in params],\n",
    "          xlabel='Time(s)',\n",
    "         ylabel='ITR(dB)', \n",
    "         figsize=(4.5, 2.5),\n",
    "         xlim=[0.05,1.05],\n",
    "         legend=[f'Train_{mu+1}' for mu in params],\n",
    "        titles=\"TRCA-SAME\",\n",
    "        saveName=\"TRCA-SAME_ITR\"\n",
    "        )"
   ]
  },
  {
   "cell_type": "code",
   "execution_count": null,
   "id": "b8e786d9-3815-4bc0-b35d-c2a3d3600c6c",
   "metadata": {},
   "outputs": [],
   "source": [
    "n = np.argmax(itrs[:,4,:,:].mean( axis=(0,1)))\n",
    "acc_max = accs[:,4,:,n].mean( axis=(0,1))\n",
    "itr_max = itrs[:,4,:,:].mean( axis=(0,1)).max()\n",
    "print(f\"t = {(1+n)*0.1} 时,Acc = {acc_max:.4f} ,ITR = {itr_max:.2f} bit/min\")"
   ]
  },
  {
   "cell_type": "markdown",
   "id": "74139053-36ed-46ad-b3b0-2e1d4200ab6a",
   "metadata": {},
   "source": [
    "## TDCA_SAME"
   ]
  },
  {
   "cell_type": "code",
   "execution_count": null,
   "id": "ab5fcb03-45d4-4f87-ac4b-38832816d49d",
   "metadata": {},
   "outputs": [],
   "source": [
    "# Base path to your data files\n",
    "base_path = r'H:\\Semiconductor\\Code_zoo\\SSVEP算法\\result\\TDCA-SAME'\n",
    "sub_num = 35\n",
    "print(f\"加载{sub_num}人数据\")\n",
    "\n",
    "# Initialize a list to store data for all subjects\n",
    "subject_data = []\n",
    "accs = []\n",
    "itrs = []\n",
    "# Loop through 10 subjects (S1.mat to S10.mat)\n",
    "for i in tqdm(range(1, sub_num+1)):\n",
    "    file_path = os.path.join(base_path, f'S{i}.mat')  # Construct the file path for each subject\n",
    "    data = sio.loadmat(file_path)                     # Load the .mat file\n",
    "    subject_data.append(data)                         # Append the loaded data to the list\n",
    "    accs .append (data['accs'])\n",
    "    itrs .append (data['itrs'])\n",
    "    # print(f\"Loaded data for S{i}\")\n",
    "accs = np.array(accs)\n",
    "itrs = np.array(itrs)\n",
    "\n",
    "acc_tdca_same = accs;\n",
    "itr_tdca_same = itrs;"
   ]
  },
  {
   "cell_type": "code",
   "execution_count": null,
   "id": "79c1db9d-fbf0-44e0-b16c-2ad108e47797",
   "metadata": {},
   "outputs": [],
   "source": [
    "print(\"平均的结果\")\n",
    "print(\"Accuracy\")\n",
    "\n",
    "params =range(5)\n",
    "time_points = np.linspace(0.1,1,10)\n",
    "d2l.plot(time_points,\n",
    "         [accs[:,i,:,:].mean( axis=(0,1)) for i in params ] ,\n",
    "         [accs[:,i,:,:].mean(1).std(0)/np.sqrt(sub_num-1) for i in params],\n",
    "          xlabel='Time(s)',\n",
    "         ylabel='Accuracy', \n",
    "         figsize=(4.5, 2.5),\n",
    "         xlim=[0.05,1.05],\n",
    "         legend=[f'Train_{mu+1}' for mu in params],\n",
    "        titles=\"TDCA-SAME\",\n",
    "        saveName=\"TDCA-SAME_Acc\"\n",
    "        )\n",
    "\n",
    "print(\"ITR\")\n",
    "d2l.plot(time_points,\n",
    "         [itrs[:,i,:,:].mean( axis=(0,1)) for i in params ] ,\n",
    "         [itrs[:,i,:,:].mean(1).std(0)/np.sqrt(sub_num-1) for i in params],\n",
    "          xlabel='Time(s)',\n",
    "         ylabel='ITR(dB)', \n",
    "         figsize=(4.5, 2.5),\n",
    "         xlim=[0.05,1.05],\n",
    "         legend=[f'Train_{mu+1}' for mu in params],\n",
    "        titles=\"TDCA-SAME\",\n",
    "        saveName=\"TDCA-SAME_ITR\"\n",
    "        )"
   ]
  },
  {
   "cell_type": "code",
   "execution_count": null,
   "id": "e275964b-e3ba-4347-9cae-d467a2f469dd",
   "metadata": {},
   "outputs": [],
   "source": [
    "n = np.argmax(itrs[:,4,:,:].mean( axis=(0,1)))\n",
    "acc_max = accs[:,4,:,n].mean( axis=(0,1))\n",
    "itr_max = itrs[:,4,:,:].mean( axis=(0,1)).max()\n",
    "print(f\"t = {(1+n)*0.1} 时,Acc = {acc_max:.4f} ,ITR = {itr_max:.2f} bit/min\")"
   ]
  },
  {
   "cell_type": "markdown",
   "id": "d8bddb2d-1ef6-4fe9-8c94-307e1ca56c70",
   "metadata": {},
   "source": [
    "## msTRCA"
   ]
  },
  {
   "cell_type": "code",
   "execution_count": null,
   "id": "a5d767f2-9706-469a-a5c9-33d0558c1724",
   "metadata": {},
   "outputs": [],
   "source": [
    "# Base path to your data files\n",
    "base_path = r'H:\\Semiconductor\\Code_zoo\\SSVEP算法\\result\\msTRCA'\n",
    "sub_num = 35\n",
    "print(f\"加载{sub_num}人数据\")\n",
    "\n",
    "# Initialize a list to store data for all subjects\n",
    "subject_data = []\n",
    "accs = []\n",
    "itrs = []\n",
    "# Loop through 10 subjects (S1.mat to S10.mat)\n",
    "for i in tqdm(range(1, sub_num+1)):\n",
    "    file_path = os.path.join(base_path, f'S{i}.mat')  # Construct the file path for each subject\n",
    "    data = sio.loadmat(file_path)                     # Load the .mat file\n",
    "    subject_data.append(data)                         # Append the loaded data to the list\n",
    "    accs .append (data['accs'])\n",
    "    itrs .append (data['itrs'])\n",
    "    # print(f\"Loaded data for S{i}\")\n",
    "accs = np.array(accs)\n",
    "itrs = np.array(itrs)\n",
    "\n",
    "acc_mstrca = accs;\n",
    "itr_mstrca = itrs;"
   ]
  },
  {
   "cell_type": "code",
   "execution_count": null,
   "id": "01c7df48-ba34-4710-8d17-b939ba2a670e",
   "metadata": {},
   "outputs": [],
   "source": [
    "print(\"平均的结果\")\n",
    "print(\"Accuracy\")\n",
    "\n",
    "params =range(5)\n",
    "time_points = np.linspace(0.1,1,10)\n",
    "d2l.plot(time_points,\n",
    "         [accs[:,i,:,:].mean( axis=(0,1)) for i in params ] ,\n",
    "         [accs[:,i,:,:].mean(1).std(0)/np.sqrt(sub_num-1) for i in params],\n",
    "          xlabel='Time(s)',\n",
    "         ylabel='Accuracy', \n",
    "         figsize=(4.5, 2.5),\n",
    "         xlim=[0.05,1.05],\n",
    "         legend=[f'Train_{mu+1}' for mu in params],\n",
    "        titles=\"msTRCA\",\n",
    "        saveName=\"msTRCA_Acc\"\n",
    "        )\n",
    "\n",
    "print(\"ITR\")\n",
    "d2l.plot(time_points,\n",
    "         [itrs[:,i,:,:].mean( axis=(0,1)) for i in params ] ,\n",
    "         [itrs[:,i,:,:].mean(1).std(0)/np.sqrt(sub_num-1) for i in params],\n",
    "          xlabel='Time(s)',\n",
    "         ylabel='ITR(dB)', \n",
    "         figsize=(4.5, 2.5),\n",
    "         xlim=[0.05,1.05],\n",
    "         legend=[f'Train_{mu+1}' for mu in params],\n",
    "        titles=\"msTRCA\",\n",
    "        saveName=\"msTRCA_ITR\"\n",
    "        )"
   ]
  },
  {
   "cell_type": "code",
   "execution_count": null,
   "id": "bfe34fd5-e160-469b-8cbe-b3696f8f17c3",
   "metadata": {},
   "outputs": [],
   "source": [
    "n = np.argmax(itrs[:,4,:,:].mean( axis=(0,1)))\n",
    "acc_max = accs[:,4,:,n].mean( axis=(0,1))\n",
    "itr_max = itrs[:,4,:,:].mean( axis=(0,1)).max()\n",
    "print(f\"t = {(1+n)*0.1} 时,Acc = {acc_max:.4f} ,ITR = {itr_max:.2f} bit/min\")"
   ]
  },
  {
   "cell_type": "markdown",
   "id": "d7d991be-fab8-4a0c-8dbe-b5c26850ecaf",
   "metadata": {},
   "source": [
    "## mseCCA"
   ]
  },
  {
   "cell_type": "code",
   "execution_count": null,
   "id": "3516c9c5-19ab-4647-8e62-1ab0d455e7af",
   "metadata": {},
   "outputs": [],
   "source": [
    "# Base path to your data files\n",
    "base_path = r'H:\\Semiconductor\\Code_zoo\\SSVEP算法\\result\\mseCCA'\n",
    "sub_num = 35\n",
    "print(f\"加载{sub_num}人数据\")\n",
    "\n",
    "# Initialize a list to store data for all subjects\n",
    "subject_data = []\n",
    "accs = []\n",
    "itrs = []\n",
    "# Loop through 10 subjects (S1.mat to S10.mat)\n",
    "for i in tqdm(range(1, sub_num+1)):\n",
    "    file_path = os.path.join(base_path, f'S{i}.mat')  # Construct the file path for each subject\n",
    "    data = sio.loadmat(file_path)                     # Load the .mat file\n",
    "    subject_data.append(data)                         # Append the loaded data to the list\n",
    "    accs .append (data['accs'])\n",
    "    itrs .append (data['itrs'])\n",
    "    # print(f\"Loaded data for S{i}\")\n",
    "accs = np.array(accs)\n",
    "itrs = np.array(itrs)\n",
    "\n",
    "acc_msecca = accs;\n",
    "itr_msecca = itrs;\n",
    "\n",
    "print(\"平均的结果\")\n",
    "print(\"Accuracy\")\n",
    "\n",
    "params =range(5)\n",
    "time_points = np.linspace(0.1,1,10)\n",
    "d2l.plot(time_points,\n",
    "         [accs[:,i,:,:].mean( axis=(0,1)) for i in params ] ,\n",
    "         [accs[:,i,:,:].mean(1).std(0)/np.sqrt(sub_num-1) for i in params],\n",
    "          xlabel='Time(s)',\n",
    "         ylabel='Accuracy', \n",
    "         figsize=(4.5, 2.5),\n",
    "         xlim=[0.05,1.05],\n",
    "         legend=[f'Train_{mu+1}' for mu in params],\n",
    "        titles=\"msECCA\",\n",
    "        saveName=\"msECCA_Acc\"\n",
    "        )\n",
    "\n",
    "print(\"ITR\")\n",
    "d2l.plot(time_points,\n",
    "         [itrs[:,i,:,:].mean( axis=(0,1)) for i in params ] ,\n",
    "         [itrs[:,i,:,:].mean(1).std(0)/np.sqrt(sub_num-1) for i in params],\n",
    "          xlabel='Time(s)',\n",
    "         ylabel='ITR(dB)', \n",
    "         figsize=(4.5, 2.5),\n",
    "         xlim=[0.05,1.05],\n",
    "         legend=[f'Train_{mu+1}' for mu in params],\n",
    "        titles=\"msECCA\",\n",
    "        saveName=\"msECCA_ITR\"\n",
    "        )\n",
    "\n",
    "n = np.argmax(itrs[:,4,:,:].mean( axis=(0,1)))\n",
    "acc_max = accs[:,4,:,n].mean( axis=(0,1))\n",
    "itr_max = itrs[:,4,:,:].mean( axis=(0,1)).max()\n",
    "print(f\"t = {(1+n)*0.1} 时,Acc = {acc_max:.4f} ,ITR = {itr_max:.2f} bit/min\")"
   ]
  },
  {
   "cell_type": "markdown",
   "id": "6bee0b04-c45b-4e86-8f05-3f1c42f368a6",
   "metadata": {},
   "source": [
    "## "
   ]
  },
  {
   "cell_type": "markdown",
   "id": "0e5da7dc-a8c4-4b42-aa95-1aa832cbe6f8",
   "metadata": {},
   "source": [
    "## TRCAR"
   ]
  },
  {
   "cell_type": "code",
   "execution_count": null,
   "id": "227a9aa3-e0c1-4c46-a60f-cee852eb71fe",
   "metadata": {},
   "outputs": [],
   "source": [
    "# Base path to your data files\n",
    "base_path = r'D:\\Liuke\\Git\\BCI_Algorithms\\result\\TRCAR'\n",
    "sub_num = 35\n",
    "print(f\"加载{sub_num}人数据\")\n",
    "\n",
    "# Initialize a list to store data for all subjects\n",
    "subject_data = []\n",
    "accs = []\n",
    "itrs = []\n",
    "# Loop through 10 subjects (S1.mat to S10.mat)\n",
    "for i in tqdm(range(1, sub_num+1)):\n",
    "    file_path = os.path.join(base_path, f'S{i}.mat')  # Construct the file path for each subject\n",
    "    data = sio.loadmat(file_path)                     # Load the .mat file\n",
    "    subject_data.append(data)                         # Append the loaded data to the list\n",
    "    accs .append (data['accs'])\n",
    "    itrs .append (data['itrs'])\n",
    "    # print(f\"Loaded data for S{i}\")\n",
    "accs = np.array(accs)\n",
    "itrs = np.array(itrs)\n",
    "\n",
    "acc_trcaR= accs;\n",
    "itr_trcaR = itrs;\n",
    "\n",
    "print(\"平均的结果\")\n",
    "print(\"Accuracy\")\n",
    "\n",
    "params =range(5)\n",
    "time_points = np.linspace(0.1,1,10)\n",
    "d2l.plot(time_points,\n",
    "         [accs[:,i,:,:].mean( axis=(0,1)) for i in params ] ,\n",
    "         [accs[:,i,:,:].mean(1).std(0)/np.sqrt(sub_num-1) for i in params],\n",
    "          xlabel='Time(s)',\n",
    "         ylabel='Accuracy', \n",
    "         figsize=(4.5, 2.5),\n",
    "         xlim=[0.05,1.05],\n",
    "         legend=[f'Train_{mu+1}' for mu in params],\n",
    "        titles=\"TRCAR\",\n",
    "        saveName=\"TRCAR_Acc\"\n",
    "        )\n",
    "\n",
    "print(\"ITR\")\n",
    "d2l.plot(time_points,\n",
    "         [itrs[:,i,:,:].mean( axis=(0,1)) for i in params ] ,\n",
    "         [itrs[:,i,:,:].mean(1).std(0)/np.sqrt(sub_num-1) for i in params],\n",
    "          xlabel='Time(s)',\n",
    "         ylabel='ITR(dB)', \n",
    "         figsize=(4.5, 2.5),\n",
    "         xlim=[0.05,1.05],\n",
    "         legend=[f'Train_{mu+1}' for mu in params],\n",
    "        titles=\"TRCAR\",\n",
    "        saveName=\"TRCAR_ITR\"\n",
    "        )\n",
    "\n",
    "n = np.argmax(itrs[:,4,:,:].mean( axis=(0,1)))\n",
    "acc_max = accs[:,4,:,n].mean( axis=(0,1))\n",
    "itr_max = itrs[:,4,:,:].mean( axis=(0,1)).max()\n",
    "print(f\"t = {(1+n)*0.1} 时,Acc = {acc_max:.4f} ,ITR = {itr_max:.2f} bit/min\")"
   ]
  },
  {
   "cell_type": "markdown",
   "id": "52b0a427-1902-45fd-99c7-c9085f2076da",
   "metadata": {},
   "source": [
    "## TRCA-msSAME"
   ]
  },
  {
   "cell_type": "code",
   "execution_count": null,
   "id": "64965d63-8569-4b17-9410-0f8ef786433d",
   "metadata": {
    "scrolled": true
   },
   "outputs": [],
   "source": [
    "# Base path to your data files\n",
    "base_path = r'D:\\Liuke\\Git\\BCI_Algorithms\\result\\TRCA-msSAME'\n",
    "sub_num = 35\n",
    "print(f\"加载{sub_num}人数据\")\n",
    "\n",
    "# Initialize a list to store data for all subjects\n",
    "subject_data = []\n",
    "accs = []\n",
    "itrs = []\n",
    "# Loop through 10 subjects (S1.mat to S10.mat)\n",
    "for i in tqdm(range(1, sub_num+1)):\n",
    "    file_path = os.path.join(base_path, f'S{i}.mat')  # Construct the file path for each subject\n",
    "    data = sio.loadmat(file_path)                     # Load the .mat file\n",
    "    subject_data.append(data)                         # Append the loaded data to the list\n",
    "    accs .append (data['accs'])\n",
    "    itrs .append (data['itrs'])\n",
    "    # print(f\"Loaded data for S{i}\")\n",
    "accs = np.array(accs)\n",
    "itrs = np.array(itrs)\n",
    "\n",
    "acc_trca_msSAME= accs;\n",
    "itr_trca_msSAME = itrs;\n",
    "\n",
    "print(\"平均的结果\")\n",
    "print(\"Accuracy\")\n",
    "\n",
    "params =range(5)\n",
    "time_points = np.linspace(0.1,1,10)\n",
    "d2l.plot(time_points,\n",
    "         [accs[:,i,:,:].mean( axis=(0,1)) for i in params ] ,\n",
    "         [accs[:,i,:,:].mean(1).std(0)/np.sqrt(sub_num-1) for i in params],\n",
    "          xlabel='Time(s)',\n",
    "         ylabel='Accuracy', \n",
    "         figsize=(4.5, 2.5),\n",
    "         xlim=[0.05,1.05],\n",
    "         legend=[f'Train_{mu+1}' for mu in params],\n",
    "        titles=\"TRCA-msSAME\",\n",
    "        saveName=\"TRCA-msSAME_Acc\"\n",
    "        )\n",
    "\n",
    "print(\"ITR\")\n",
    "d2l.plot(time_points,\n",
    "         [itrs[:,i,:,:].mean( axis=(0,1)) for i in params ] ,\n",
    "         [itrs[:,i,:,:].mean(1).std(0)/np.sqrt(sub_num-1) for i in params],\n",
    "          xlabel='Time(s)',\n",
    "         ylabel='ITR(dB)', \n",
    "         figsize=(4.5, 2.5),\n",
    "         xlim=[0.05,1.05],\n",
    "         legend=[f'Train_{mu+1}' for mu in params],\n",
    "        titles=\"TRCA-msSAME\",\n",
    "        saveName=\"TRCA-msSAME_ITR\"\n",
    "        )\n",
    "\n",
    "n = np.argmax(itrs[:,4,:,:].mean( axis=(0,1)))\n",
    "acc_max = accs[:,4,:,n].mean( axis=(0,1))\n",
    "itr_max = itrs[:,4,:,:].mean( axis=(0,1)).max()\n",
    "print(f\"t = {(1+n)*0.1} 时,Acc = {acc_max:.4f} ,ITR = {itr_max:.2f} bit/min\")"
   ]
  },
  {
   "cell_type": "markdown",
   "id": "a7d05c3f-535d-42b1-b9ae-02cbd8ade9aa",
   "metadata": {},
   "source": [
    "## TDCA-msSAME"
   ]
  },
  {
   "cell_type": "code",
   "execution_count": null,
   "id": "c3af451a-5475-49d0-9284-45dd85323abd",
   "metadata": {},
   "outputs": [],
   "source": [
    "# Base path to your data files\n",
    "base_path = r'D:\\Liuke\\Git\\BCI_Algorithms\\result\\TDCA-msSAME'\n",
    "sub_num = 35\n",
    "print(f\"加载{sub_num}人数据\")\n",
    "\n",
    "# Initialize a list to store data for all subjects\n",
    "subject_data = []\n",
    "accs = []\n",
    "itrs = []\n",
    "# Loop through 10 subjects (S1.mat to S10.mat)\n",
    "for i in tqdm(range(1, sub_num+1)):\n",
    "    file_path = os.path.join(base_path, f'S{i}.mat')  # Construct the file path for each subject\n",
    "    data = sio.loadmat(file_path)                     # Load the .mat file\n",
    "    subject_data.append(data)                         # Append the loaded data to the list\n",
    "    accs .append (data['accs'])\n",
    "    itrs .append (data['itrs'])\n",
    "    # print(f\"Loaded data for S{i}\")\n",
    "accs = np.array(accs)\n",
    "itrs = np.array(itrs)\n",
    "\n",
    "acc_tdca_msSAME= accs;\n",
    "itr_tdca_msSAME = itrs;\n",
    "\n",
    "print(\"平均的结果\")\n",
    "print(\"Accuracy\")\n",
    "\n",
    "params =range(5)\n",
    "time_points = np.linspace(0.1,1,10)\n",
    "d2l.plot(time_points,\n",
    "         [accs[:,i,:,:].mean( axis=(0,1)) for i in params ] ,\n",
    "         [accs[:,i,:,:].mean(1).std(0)/np.sqrt(sub_num-1) for i in params],\n",
    "          xlabel='Time(s)',\n",
    "         ylabel='Accuracy', \n",
    "         figsize=(4.5, 2.5),\n",
    "         xlim=[0.05,1.05],\n",
    "         legend=[f'Train_{mu+1}' for mu in params],\n",
    "        titles=\"TDCA-msSAME\",\n",
    "        saveName=\"TDCA-msSAME_Acc\"\n",
    "        )\n",
    "\n",
    "print(\"ITR\")\n",
    "d2l.plot(time_points,\n",
    "         [itrs[:,i,:,:].mean( axis=(0,1)) for i in params ] ,\n",
    "         [itrs[:,i,:,:].mean(1).std(0)/np.sqrt(sub_num-1) for i in params],\n",
    "          xlabel='Time(s)',\n",
    "         ylabel='ITR(dB)', \n",
    "         figsize=(4.5, 2.5),\n",
    "         xlim=[0.05,1.05],\n",
    "         legend=[f'Train_{mu+1}' for mu in params],\n",
    "        titles=\"TDCA-msSAME\",\n",
    "        saveName=\"TDCA-msSAME_ITR\"\n",
    "        )\n",
    "\n",
    "n = np.argmax(itrs[:,4,:,:].mean( axis=(0,1)))\n",
    "acc_max = accs[:,4,:,n].mean( axis=(0,1))\n",
    "itr_max = itrs[:,4,:,:].mean( axis=(0,1)).max()\n",
    "print(f\"t = {(1+n)*0.1} 时,Acc = {acc_max:.4f} ,ITR = {itr_max:.2f} bit/min\")"
   ]
  },
  {
   "cell_type": "markdown",
   "id": "e3752ed3-3ad9-420c-8785-cd46d2ce9250",
   "metadata": {},
   "source": [
    "## All Result"
   ]
  },
  {
   "cell_type": "code",
   "execution_count": null,
   "id": "edda63e3-f606-46d7-a278-f413a6068b92",
   "metadata": {},
   "outputs": [],
   "source": [
    "all_acc=[]\n",
    "all_acc.append( acc_trca)\n",
    "all_acc.append( acc_tdca)\n",
    "all_acc.append( acc_trca_same)\n",
    "all_acc.append( acc_tdca_same)\n",
    "all_acc.append( acc_msecca)\n",
    "all_acc.append( acc_mstrca)\n",
    "all_acc.append( acc_trcaR)\n",
    "all_acc.append( acc_trca_msSAME)\n",
    "all_acc.append( acc_tdca_msSAME)\n",
    "all_acc = np.array(all_acc)\n",
    "\n",
    "all_itr=[]\n",
    "all_itr.append( itr_trca)\n",
    "all_itr.append( itr_tdca)\n",
    "all_itr.append( itr_trca_same)\n",
    "all_itr.append( itr_tdca_same)\n",
    "all_itr.append( itr_msecca)\n",
    "all_itr.append( itr_mstrca)\n",
    "all_itr.append( itr_trcaR)\n",
    "all_itr.append( itr_trca_msSAME)\n",
    "all_itr.append( itr_tdca_msSAME)\n",
    "all_itr = np.array(all_itr)"
   ]
  },
  {
   "cell_type": "code",
   "execution_count": null,
   "id": "47676598-5787-47a3-b419-7a53fdd7ece9",
   "metadata": {},
   "outputs": [],
   "source": [
    "all_acc.shape"
   ]
  },
  {
   "cell_type": "markdown",
   "id": "b8b88170-a564-47c9-bcb1-cbf651464aae",
   "metadata": {},
   "source": [
    "## Compare"
   ]
  },
  {
   "cell_type": "code",
   "execution_count": null,
   "id": "9a127c93-30ec-409b-9d82-e843723fb259",
   "metadata": {},
   "outputs": [],
   "source": [
    "params =range(9)\n",
    "n_train = 4\n",
    "time_points = np.linspace(0.1,1,10)\n",
    "d2l.plot(time_points,\n",
    "         [all_acc[i,:,n_train,:,:].mean( axis=(0,1)) for i in params ] ,\n",
    "         [all_acc[i,:,n_train,:,:].mean(1).std(0)/np.sqrt(sub_num-1) for i in params],\n",
    "         xlabel='Time(s)',\n",
    "         ylabel='Accuracy', \n",
    "         figsize=(4.5, 2.5),\n",
    "         xlim=[0.05,1.05],\n",
    "         legend=[methods[mu] for mu in params],\n",
    "         titles=\"算法准确率对比\",\n",
    "         saveName=\"算法准确率对比\"\n",
    "         )\n",
    "\n",
    "# print(\"ITR\")\n",
    "d2l.plot(time_points,\n",
    "         [all_itr[i,:,n_train,:,:].mean( axis=(0,1)) for i in params ] ,\n",
    "         [all_itr[i,:,n_train,:,:].mean(1).std(0)/np.sqrt(sub_num-1) for i in params],\n",
    "         xlabel='Time(s)',\n",
    "         ylabel='ITR(dB)', \n",
    "         figsize=(4.5, 2.5),\n",
    "         xlim=[0.05,1.05],\n",
    "         legend=[methods[mu] for mu in params],\n",
    "         titles=\"算法ITR对比\",\n",
    "         saveName=\"算法ITR对比\"\n",
    "         )"
   ]
  }
 ],
 "metadata": {
  "kernelspec": {
   "display_name": "Python 3 (ipykernel)",
   "language": "python",
   "name": "python3"
  },
  "language_info": {
   "codemirror_mode": {
    "name": "ipython",
    "version": 3
   },
   "file_extension": ".py",
   "mimetype": "text/x-python",
   "name": "python",
   "nbconvert_exporter": "python",
   "pygments_lexer": "ipython3",
   "version": "3.12.4"
  }
 },
 "nbformat": 4,
 "nbformat_minor": 5
}
